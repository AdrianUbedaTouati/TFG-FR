{
 "cells": [
  {
   "cell_type": "markdown",
   "id": "81bbfb7e",
   "metadata": {},
   "source": [
    "# Problématique\n",
    "Avant les prédictions météorologiques se réalisaient grâce à la physique en utilisant des super ordinateurs qui résolvaient des équations très difficiles."
   ]
  },
  {
   "cell_type": "markdown",
   "id": "85b36805",
   "metadata": {},
   "source": [
    "# Objectif\n",
    "L'objectif est de réussir à prédire les précipitations, l'humidité, le résumé météo, la température, la température apparente, la vitesse du vent, la portée du vent et la visibilité, en essayant d'obtenir les mêmes résultats que les super ordinateurs ou même de les surpasser."
   ]
  },
  {
   "cell_type": "markdown",
   "id": "77b71ca6",
   "metadata": {},
   "source": [
    "# Techniques utilisées\n",
    "- Nettoyer les valeurs : arrondir les températures, normaliser les données (0, 1, 2 pour le résumé météo, 0-1 pour les précipitations et l'humidité).\n",
    "- Pour les données numériques, utiliser `StandardScaler` ou `MinMaxScaler` de Scikit-learn, puis appliquer un encodage one-hot avant la première couche du réseau.\n",
    "- Diviser les données en 75% apprentissage, 15% test et 10% validation (ou utiliser une autre base de données)."
   ]
  },
  {
   "cell_type": "markdown",
   "id": "7230eabe",
   "metadata": {},
   "source": [
    "# Étapes du projet\n",
    "1. **Structure :**\n",
    "   - Utiliser un modèle `LSTM` pour prendre en compte les valeurs antérieures.\n",
    "   - Expérimenter avec des arbres de décision tels que `RandomForest` ou `Gradient Boosting`.\n",
    "   - Utiliser un `Transformer` si le temps le permet.\n",
    "2. **Entraînement :**\n",
    "   - Appliquer la validation croisée.\n",
    "3. **Validation :**\n",
    "   - Tester sur d'autres bases de données et comparer les modèles avec le test de Wilcoxon en visant au moins 90% de précision."
   ]
  }
 ],
 "metadata": {},
 "nbformat": 4,
 "nbformat_minor": 5
}
